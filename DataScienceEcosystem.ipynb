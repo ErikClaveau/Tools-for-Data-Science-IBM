{
  "nbformat": 4,
  "nbformat_minor": 0,
  "metadata": {
    "colab": {
      "provenance": []
    },
    "kernelspec": {
      "name": "python3",
      "display_name": "Python 3"
    },
    "language_info": {
      "name": "python"
    }
  },
  "cells": [
    {
      "cell_type": "markdown",
      "source": [
        "# Data Science Tools and Ecosystem"
      ],
      "metadata": {
        "id": "3-gWupRepvLB"
      }
    },
    {
      "cell_type": "markdown",
      "source": [
        "In this notebook, Data Science Tools and Ecosystem are summarized."
      ],
      "metadata": {
        "id": "RvrbY9i9qLge"
      }
    },
    {
      "cell_type": "markdown",
      "source": [
        "Some of the popular languages that Data Scientists use are:\n",
        "1. Python\n",
        "2. R\n",
        "3. Julia\n",
        "\n",
        "\n",
        "\n",
        "\n",
        "\n",
        "\n"
      ],
      "metadata": {
        "id": "0sV8YjFHqWk3"
      }
    },
    {
      "cell_type": "markdown",
      "source": [
        "Some of the commonly used libraries used by Data Scientists include:\n",
        "1.   Numpy\n",
        "2.   Pandas\n",
        "3.  Keras\n",
        "\n"
      ],
      "metadata": {
        "id": "VUyKnEpMrBL7"
      }
    },
    {
      "cell_type": "markdown",
      "source": [
        "**Data Science Tools**\n",
        "\n",
        "---\n",
        "\n",
        "Google Colab\n",
        "\n",
        "\n",
        "---\n",
        "\n",
        "Jupyter Lab\n",
        "\n",
        "\n",
        "---\n",
        "\n",
        "Visual Studio\n",
        "\n"
      ],
      "metadata": {
        "id": "vGzaWclYrQR8"
      }
    },
    {
      "cell_type": "markdown",
      "source": [
        "###Below are a few examples of evaluating arithmetic expressions in Python"
      ],
      "metadata": {
        "id": "VN1IZbfvr_ss"
      }
    },
    {
      "cell_type": "code",
      "source": [
        "# This a simple arithmetic expression to mutiply then add integers\n",
        "(3*4)+5"
      ],
      "metadata": {
        "colab": {
          "base_uri": "https://localhost:8080/"
        },
        "id": "MjsmYTxEp_1W",
        "outputId": "54febe94-b2fb-4ace-9524-bd187167b478"
      },
      "execution_count": 1,
      "outputs": [
        {
          "output_type": "execute_result",
          "data": {
            "text/plain": [
              "17"
            ]
          },
          "metadata": {},
          "execution_count": 1
        }
      ]
    },
    {
      "cell_type": "code",
      "source": [
        "# This will convert 200 minutes to hours by diving by 60\n",
        "\n",
        "200 / 60"
      ],
      "metadata": {
        "colab": {
          "base_uri": "https://localhost:8080/"
        },
        "id": "yZVf445-sism",
        "outputId": "395c6d34-0390-42cf-975b-17ea1b7e218d"
      },
      "execution_count": 2,
      "outputs": [
        {
          "output_type": "execute_result",
          "data": {
            "text/plain": [
              "3.3333333333333335"
            ]
          },
          "metadata": {},
          "execution_count": 2
        }
      ]
    },
    {
      "cell_type": "markdown",
      "source": [
        "Objectives:\n",
        "\n",
        "\n",
        "*   Data Science Languajes\n",
        "*   Data Science Libraries\n",
        "* Data Science Tools\n",
        "* Python arithmetic\n",
        "\n"
      ],
      "metadata": {
        "id": "Q4qAeG71svUo"
      }
    },
    {
      "cell_type": "markdown",
      "source": [
        "## Author\n",
        "Erik Claveau Espony"
      ],
      "metadata": {
        "id": "Nfp-LyTPtICj"
      }
    },
    {
      "cell_type": "code",
      "source": [],
      "metadata": {
        "id": "JIdu9pmmsnRT"
      },
      "execution_count": null,
      "outputs": []
    }
  ]
}